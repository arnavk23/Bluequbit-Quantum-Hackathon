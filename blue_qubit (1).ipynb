{
  "nbformat": 4,
  "nbformat_minor": 0,
  "metadata": {
    "colab": {
      "provenance": []
    },
    "kernelspec": {
      "name": "python3",
      "display_name": "Python 3"
    },
    "language_info": {
      "name": "python"
    }
  },
  "cells": [
    {
      "cell_type": "code",
      "source": [
        "!pip install qiskit --quiet\n",
        "!pip install qiskit-ibm-runtime"
      ],
      "metadata": {
        "colab": {
          "base_uri": "https://localhost:8080/"
        },
        "id": "VVKGRjwVetQd",
        "outputId": "50def398-690a-43ce-a1d9-0a99a31772d3"
      },
      "execution_count": 1,
      "outputs": [
        {
          "output_type": "stream",
          "name": "stdout",
          "text": [
            "Collecting qiskit-ibm-runtime\n",
            "  Downloading qiskit_ibm_runtime-0.37.0-py3-none-any.whl.metadata (20 kB)\n",
            "Requirement already satisfied: requests>=2.19 in /usr/local/lib/python3.11/dist-packages (from qiskit-ibm-runtime) (2.32.3)\n",
            "Collecting requests-ntlm>=1.1.0 (from qiskit-ibm-runtime)\n",
            "  Downloading requests_ntlm-1.3.0-py3-none-any.whl.metadata (2.4 kB)\n",
            "Requirement already satisfied: numpy>=1.13 in /usr/local/lib/python3.11/dist-packages (from qiskit-ibm-runtime) (2.0.2)\n",
            "Requirement already satisfied: urllib3>=1.21.1 in /usr/local/lib/python3.11/dist-packages (from qiskit-ibm-runtime) (2.3.0)\n",
            "Requirement already satisfied: python-dateutil>=2.8.0 in /usr/local/lib/python3.11/dist-packages (from qiskit-ibm-runtime) (2.8.2)\n",
            "Requirement already satisfied: websocket-client>=1.5.1 in /usr/local/lib/python3.11/dist-packages (from qiskit-ibm-runtime) (1.8.0)\n",
            "Collecting ibm-platform-services>=0.22.6 (from qiskit-ibm-runtime)\n",
            "  Downloading ibm_platform_services-0.63.0-py3-none-any.whl.metadata (9.0 kB)\n",
            "Collecting pydantic<2.10,>=2.5.0 (from qiskit-ibm-runtime)\n",
            "  Downloading pydantic-2.9.2-py3-none-any.whl.metadata (149 kB)\n",
            "\u001b[2K     \u001b[90m━━━━━━━━━━━━━━━━━━━━━━━━━━━━━━━━━━━━━━━\u001b[0m \u001b[32m149.4/149.4 kB\u001b[0m \u001b[31m4.5 MB/s\u001b[0m eta \u001b[36m0:00:00\u001b[0m\n",
            "\u001b[?25hRequirement already satisfied: qiskit>=1.4.1 in /usr/local/lib/python3.11/dist-packages (from qiskit-ibm-runtime) (2.0.0)\n",
            "Requirement already satisfied: packaging in /usr/local/lib/python3.11/dist-packages (from qiskit-ibm-runtime) (24.2)\n",
            "Collecting ibm_cloud_sdk_core<4.0.0,>=3.22.1 (from ibm-platform-services>=0.22.6->qiskit-ibm-runtime)\n",
            "  Downloading ibm_cloud_sdk_core-3.23.0-py3-none-any.whl.metadata (8.7 kB)\n",
            "Requirement already satisfied: annotated-types>=0.6.0 in /usr/local/lib/python3.11/dist-packages (from pydantic<2.10,>=2.5.0->qiskit-ibm-runtime) (0.7.0)\n",
            "Collecting pydantic-core==2.23.4 (from pydantic<2.10,>=2.5.0->qiskit-ibm-runtime)\n",
            "  Downloading pydantic_core-2.23.4-cp311-cp311-manylinux_2_17_x86_64.manylinux2014_x86_64.whl.metadata (6.6 kB)\n",
            "Requirement already satisfied: typing-extensions>=4.6.1 in /usr/local/lib/python3.11/dist-packages (from pydantic<2.10,>=2.5.0->qiskit-ibm-runtime) (4.13.1)\n",
            "Requirement already satisfied: six>=1.5 in /usr/local/lib/python3.11/dist-packages (from python-dateutil>=2.8.0->qiskit-ibm-runtime) (1.17.0)\n",
            "Requirement already satisfied: rustworkx>=0.15.0 in /usr/local/lib/python3.11/dist-packages (from qiskit>=1.4.1->qiskit-ibm-runtime) (0.16.0)\n",
            "Requirement already satisfied: scipy>=1.5 in /usr/local/lib/python3.11/dist-packages (from qiskit>=1.4.1->qiskit-ibm-runtime) (1.14.1)\n",
            "Requirement already satisfied: sympy>=1.3 in /usr/local/lib/python3.11/dist-packages (from qiskit>=1.4.1->qiskit-ibm-runtime) (1.13.1)\n",
            "Requirement already satisfied: dill>=0.3 in /usr/local/lib/python3.11/dist-packages (from qiskit>=1.4.1->qiskit-ibm-runtime) (0.3.9)\n",
            "Requirement already satisfied: stevedore>=3.0.0 in /usr/local/lib/python3.11/dist-packages (from qiskit>=1.4.1->qiskit-ibm-runtime) (5.4.1)\n",
            "Requirement already satisfied: symengine<0.14,>=0.11 in /usr/local/lib/python3.11/dist-packages (from qiskit>=1.4.1->qiskit-ibm-runtime) (0.13.0)\n",
            "Requirement already satisfied: charset-normalizer<4,>=2 in /usr/local/lib/python3.11/dist-packages (from requests>=2.19->qiskit-ibm-runtime) (3.4.1)\n",
            "Requirement already satisfied: idna<4,>=2.5 in /usr/local/lib/python3.11/dist-packages (from requests>=2.19->qiskit-ibm-runtime) (3.10)\n",
            "Requirement already satisfied: certifi>=2017.4.17 in /usr/local/lib/python3.11/dist-packages (from requests>=2.19->qiskit-ibm-runtime) (2025.1.31)\n",
            "Requirement already satisfied: cryptography>=1.3 in /usr/local/lib/python3.11/dist-packages (from requests-ntlm>=1.1.0->qiskit-ibm-runtime) (43.0.3)\n",
            "Collecting pyspnego>=0.4.0 (from requests-ntlm>=1.1.0->qiskit-ibm-runtime)\n",
            "  Downloading pyspnego-0.11.2-py3-none-any.whl.metadata (5.4 kB)\n",
            "Requirement already satisfied: cffi>=1.12 in /usr/local/lib/python3.11/dist-packages (from cryptography>=1.3->requests-ntlm>=1.1.0->qiskit-ibm-runtime) (1.17.1)\n",
            "Requirement already satisfied: PyJWT<3.0.0,>=2.8.0 in /usr/local/lib/python3.11/dist-packages (from ibm_cloud_sdk_core<4.0.0,>=3.22.1->ibm-platform-services>=0.22.6->qiskit-ibm-runtime) (2.10.1)\n",
            "Requirement already satisfied: pbr>=2.0.0 in /usr/local/lib/python3.11/dist-packages (from stevedore>=3.0.0->qiskit>=1.4.1->qiskit-ibm-runtime) (6.1.1)\n",
            "Requirement already satisfied: mpmath<1.4,>=1.1.0 in /usr/local/lib/python3.11/dist-packages (from sympy>=1.3->qiskit>=1.4.1->qiskit-ibm-runtime) (1.3.0)\n",
            "Requirement already satisfied: pycparser in /usr/local/lib/python3.11/dist-packages (from cffi>=1.12->cryptography>=1.3->requests-ntlm>=1.1.0->qiskit-ibm-runtime) (2.22)\n",
            "Requirement already satisfied: setuptools in /usr/local/lib/python3.11/dist-packages (from pbr>=2.0.0->stevedore>=3.0.0->qiskit>=1.4.1->qiskit-ibm-runtime) (75.2.0)\n",
            "Downloading qiskit_ibm_runtime-0.37.0-py3-none-any.whl (3.1 MB)\n",
            "\u001b[2K   \u001b[90m━━━━━━━━━━━━━━━━━━━━━━━━━━━━━━━━━━━━━━━━\u001b[0m \u001b[32m3.1/3.1 MB\u001b[0m \u001b[31m40.6 MB/s\u001b[0m eta \u001b[36m0:00:00\u001b[0m\n",
            "\u001b[?25hDownloading ibm_platform_services-0.63.0-py3-none-any.whl (352 kB)\n",
            "\u001b[2K   \u001b[90m━━━━━━━━━━━━━━━━━━━━━━━━━━━━━━━━━━━━━━━━\u001b[0m \u001b[32m353.0/353.0 kB\u001b[0m \u001b[31m22.5 MB/s\u001b[0m eta \u001b[36m0:00:00\u001b[0m\n",
            "\u001b[?25hDownloading pydantic-2.9.2-py3-none-any.whl (434 kB)\n",
            "\u001b[2K   \u001b[90m━━━━━━━━━━━━━━━━━━━━━━━━━━━━━━━━━━━━━━━━\u001b[0m \u001b[32m434.9/434.9 kB\u001b[0m \u001b[31m23.7 MB/s\u001b[0m eta \u001b[36m0:00:00\u001b[0m\n",
            "\u001b[?25hDownloading pydantic_core-2.23.4-cp311-cp311-manylinux_2_17_x86_64.manylinux2014_x86_64.whl (2.1 MB)\n",
            "\u001b[2K   \u001b[90m━━━━━━━━━━━━━━━━━━━━━━━━━━━━━━━━━━━━━━━━\u001b[0m \u001b[32m2.1/2.1 MB\u001b[0m \u001b[31m55.1 MB/s\u001b[0m eta \u001b[36m0:00:00\u001b[0m\n",
            "\u001b[?25hDownloading requests_ntlm-1.3.0-py3-none-any.whl (6.6 kB)\n",
            "Downloading ibm_cloud_sdk_core-3.23.0-py3-none-any.whl (69 kB)\n",
            "\u001b[2K   \u001b[90m━━━━━━━━━━━━━━━━━━━━━━━━━━━━━━━━━━━━━━━━\u001b[0m \u001b[32m69.5/69.5 kB\u001b[0m \u001b[31m4.8 MB/s\u001b[0m eta \u001b[36m0:00:00\u001b[0m\n",
            "\u001b[?25hDownloading pyspnego-0.11.2-py3-none-any.whl (130 kB)\n",
            "\u001b[2K   \u001b[90m━━━━━━━━━━━━━━━━━━━━━━━━━━━━━━━━━━━━━━━━\u001b[0m \u001b[32m130.5/130.5 kB\u001b[0m \u001b[31m9.9 MB/s\u001b[0m eta \u001b[36m0:00:00\u001b[0m\n",
            "\u001b[?25hInstalling collected packages: pydantic-core, pydantic, ibm_cloud_sdk_core, pyspnego, ibm-platform-services, requests-ntlm, qiskit-ibm-runtime\n",
            "  Attempting uninstall: pydantic-core\n",
            "    Found existing installation: pydantic_core 2.33.1\n",
            "    Uninstalling pydantic_core-2.33.1:\n",
            "      Successfully uninstalled pydantic_core-2.33.1\n",
            "  Attempting uninstall: pydantic\n",
            "    Found existing installation: pydantic 2.11.2\n",
            "    Uninstalling pydantic-2.11.2:\n",
            "      Successfully uninstalled pydantic-2.11.2\n",
            "Successfully installed ibm-platform-services-0.63.0 ibm_cloud_sdk_core-3.23.0 pydantic-2.9.2 pydantic-core-2.23.4 pyspnego-0.11.2 qiskit-ibm-runtime-0.37.0 requests-ntlm-1.3.0\n"
          ]
        }
      ]
    },
    {
      "cell_type": "code",
      "source": [
        "from qiskit import QuantumCircuit\n",
        "from qiskit.quantum_info import Statevector\n",
        "\n",
        "# Load the circuit (upload the file first using the sidebar)\n",
        "qc = QuantumCircuit.from_qasm_file('P1_little_peak.qasm')\n",
        "\n",
        "# Simulate using statevector\n",
        "state = Statevector.from_instruction(qc)\n",
        "\n",
        "# Get amplitudes dictionary\n",
        "amplitude_dict = state.to_dict()\n",
        "\n",
        "# Find the bitstring with the largest amplitude (by magnitude)\n",
        "peak_bitstring = max(amplitude_dict, key=lambda b: abs(amplitude_dict[b]))\n",
        "\n",
        "print(\"Peak Bitstring:\", peak_bitstring)"
      ],
      "metadata": {
        "colab": {
          "base_uri": "https://localhost:8080/"
        },
        "id": "XPYaMQE6nQb2",
        "outputId": "c045d6ee-f64b-4393-8719-7fd8ff3643fb"
      },
      "execution_count": 2,
      "outputs": [
        {
          "output_type": "stream",
          "name": "stdout",
          "text": [
            "Peak Bitstring: 1001\n"
          ]
        }
      ]
    },
    {
      "cell_type": "code",
      "source": [
        "reverse_peak = peak_bitstring[::-1]\n",
        "print(\"Reverse also accepted:\", reverse_peak)"
      ],
      "metadata": {
        "colab": {
          "base_uri": "https://localhost:8080/"
        },
        "id": "WMTulWucngeQ",
        "outputId": "ad35f44e-7af9-4af0-abfe-96f08f8a9693"
      },
      "execution_count": 3,
      "outputs": [
        {
          "output_type": "stream",
          "name": "stdout",
          "text": [
            "Reverse also accepted: 1001\n"
          ]
        }
      ]
    },
    {
      "cell_type": "code",
      "source": [
        "!pip install qiskit-aer --quiet\n"
      ],
      "metadata": {
        "id": "PIa8WtOWxrre"
      },
      "execution_count": 2,
      "outputs": []
    },
    {
      "cell_type": "code",
      "source": [
        "# prompt: Problem 2: Swift Rise 🌊\n",
        "# Accelerate your journey with this electrifying 28-qubit circuit: ⬇️ P2_swift_rise.qasm\n",
        "\n",
        "from qiskit import QuantumCircuit\n",
        "from qiskit.quantum_info import Statevector\n",
        "from qiskit_aer import AerSimulator\n",
        "\n",
        "# Load the circuit (upload the file first using the sidebar)\n",
        "qc = QuantumCircuit.from_qasm_file('P2_swift_rise.qasm')\n",
        "\n",
        "# Simulate using statevector\n",
        "simulator = AerSimulator()\n",
        "state = Statevector.from_instruction(qc)\n",
        "\n",
        "# Get amplitudes dictionary\n",
        "amplitude_dict = state.to_dict()\n",
        "\n",
        "# Find the bitstring with the largest amplitude (by magnitude)\n",
        "peak_bitstring = max(amplitude_dict, key=lambda b: abs(amplitude_dict[b]))\n",
        "\n",
        "print(\"Peak Bitstring:\", peak_bitstring)\n",
        "reverse_peak = peak_bitstring[::-1]\n",
        "print(\"Reverse also accepted:\", reverse_peak)\n"
      ],
      "metadata": {
        "id": "Fb5HkhhS0ZVT"
      },
      "execution_count": null,
      "outputs": []
    },
    {
      "cell_type": "code",
      "source": [
        "# prompt: Problem 3: Sharp Peak 🏜\n",
        "# Points: 50\n",
        "# Conquer the frontier with this razor-sharp 44-qubit circuit, meticulously crafted to slice through classical barriers and redefine the quantum landscape: ⬇️ P3__sharp_peak.qasm\n",
        "\n",
        "from qiskit import QuantumCircuit\n",
        "from qiskit.quantum_info import Statevector\n",
        "from qiskit_aer import AerSimulator\n",
        "\n",
        "# Load the circuit (upload the file first using the sidebar)\n",
        "qc = QuantumCircuit.from_qasm_file('P3__sharp_peak.qasm')\n",
        "\n",
        "# Simulate using statevector\n",
        "simulator = AerSimulator()\n",
        "state = Statevector.from_instruction(qc)\n",
        "\n",
        "# Get amplitudes dictionary\n",
        "amplitude_dict = state.to_dict()\n",
        "\n",
        "# Find the bitstring with the largest amplitude (by magnitude)\n",
        "peak_bitstring = max(amplitude_dict, key=lambda b: abs(amplitude_dict[b]))\n",
        "\n",
        "print(\"Peak Bitstring:\", peak_bitstring)\n",
        "reverse_peak = peak_bitstring[::-1]\n",
        "print(\"Reverse also accepted:\", reverse_peak)\n"
      ],
      "metadata": {
        "id": "O3pjaw-G0kIP"
      },
      "execution_count": null,
      "outputs": []
    },
    {
      "cell_type": "code",
      "source": [
        "# prompt: Problem 4: Golden Mountain ⛰️\n",
        "# Points: 100\n",
        "# Ascend to dazzling heights with this majestic 48-qubit circuit, where every connection gleams like a golden pathway to quantum brilliance! ⬇️ P4_golden_mountain.qasm\n",
        "\n",
        "from qiskit import QuantumCircuit\n",
        "from qiskit.quantum_info import Statevector\n",
        "from qiskit_aer import AerSimulator\n",
        "\n",
        "# Load the circuit (upload the file first using the sidebar)\n",
        "qc = QuantumCircuit.from_qasm_file('P4_golden_mountain.qasm')\n",
        "\n",
        "# Simulate using statevector\n",
        "simulator = AerSimulator()\n",
        "state = Statevector.from_instruction(qc)\n",
        "\n",
        "# Get amplitudes dictionary\n",
        "amplitude_dict = state.to_dict()\n",
        "\n",
        "# Find the bitstring with the largest amplitude (by magnitude)\n",
        "peak_bitstring = max(amplitude_dict, key=lambda b: abs(amplitude_dict[b]))\n",
        "\n",
        "print(\"Peak Bitstring:\", peak_bitstring)\n",
        "reverse_peak = peak_bitstring[::-1]\n",
        "print(\"Reverse also accepted:\", reverse_peak)\n"
      ],
      "metadata": {
        "id": "F0jhqumV135E"
      },
      "execution_count": null,
      "outputs": []
    },
    {
      "cell_type": "code",
      "source": [
        "# prompt: Problem 5: Granite Summit 🗻\n",
        "# Points: 200\n",
        "# Carve your legacy on this steadfast 44-qubit circuit, as enduring as granite itself, inviting you to seize the summit of quantum ingenuity! ⬇️ P5_granite_summit.qasm\n",
        "\n",
        "from qiskit import QuantumCircuit\n",
        "from qiskit.quantum_info import Statevector\n",
        "from qiskit_aer import AerSimulator\n",
        "\n",
        "# Load the circuit (upload the file first using the sidebar)\n",
        "qc = QuantumCircuit.from_qasm_file('P5_granite_summit.qasm')\n",
        "\n",
        "# Simulate using statevector\n",
        "simulator = AerSimulator()\n",
        "state = Statevector.from_instruction(qc)\n",
        "\n",
        "# Get amplitudes dictionary\n",
        "amplitude_dict = state.to_dict()\n",
        "\n",
        "# Find the bitstring with the largest amplitude (by magnitude)\n",
        "peak_bitstring = max(amplitude_dict, key=lambda b: abs(amplitude_dict[b]))\n",
        "\n",
        "print(\"Peak Bitstring:\", peak_bitstring)\n",
        "reverse_peak = peak_bitstring[::-1]\n",
        "print(\"Reverse also accepted:\", reverse_peak)\n"
      ],
      "metadata": {
        "id": "GYzdg4PC30-v"
      },
      "execution_count": null,
      "outputs": []
    },
    {
      "cell_type": "code",
      "source": [
        "# prompt: Problem 6: Titan Pinnacle 🌋\n",
        "# Points: 290\n",
        "# Unleash a torrent of quantum power with this monumental 62-qubit circuit—a volcanic marvel that erupts with the explosive brilliance of technological innovation! ⬇️ P6_titan_pinnacle.qasm\n",
        "\n",
        "from qiskit import QuantumCircuit\n",
        "from qiskit.quantum_info import Statevector\n",
        "from qiskit_aer import AerSimulator\n",
        "\n",
        "# Load the circuit (upload the file first using the sidebar)\n",
        "qc = QuantumCircuit.from_qasm_file('P6_titan_pinnacle.qasm')\n",
        "\n",
        "# Simulate using statevector\n",
        "simulator = AerSimulator()\n",
        "state = Statevector.from_instruction(qc)\n",
        "\n",
        "# Get amplitudes dictionary\n",
        "amplitude_dict = state.to_dict()\n",
        "\n",
        "# Find the bitstring with the largest amplitude (by magnitude)\n",
        "peak_bitstring = max(amplitude_dict, key=lambda b: abs(amplitude_dict[b]))\n",
        "\n",
        "print(\"Peak Bitstring:\", peak_bitstring)\n",
        "reverse_peak = peak_bitstring[::-1]\n",
        "print(\"Reverse also accepted:\", reverse_peak)\n"
      ],
      "metadata": {
        "id": "uUu2nbSi38dk"
      },
      "execution_count": null,
      "outputs": []
    }
  ]
}